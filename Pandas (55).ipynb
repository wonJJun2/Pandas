{
 "cells": [
  {
   "cell_type": "code",
   "execution_count": null,
   "metadata": {},
   "outputs": [],
   "source": [
    "# Input\n",
    "df = pd.DataFrame(np.random.randint(-20, 50, 100).reshape(10,-1))\n",
    "print(df)\n",
    "\n",
    "# Solution\n",
    "# Step 1: remove negative values from arr\n",
    "arr = df[df > 0].values.flatten()\n",
    "arr_qualified = arr[~np.isnan(arr)]\n",
    "\n",
    "# Step 2: find side-length of largest possible square\n",
    "n = int(np.floor(arr_qualified.shape[0]**.5))\n",
    "\n",
    "# Step 3: Take top n^2 items without changing positions\n",
    "top_indexes = np.argsort(arr_qualified)[::-1]\n",
    "output = np.take(arr_qualified, sorted(top_indexes[:n**2])).reshape(n, -1)\n",
    "print(output)\n",
    "\n",
    "# output\n",
    "    0   1   2   3   4   5   6   7   8   9\n",
    "0  25 -13  17  16   0   6  22  44  10 -19\n",
    "1  47   4  -1  29 -13  12  41 -13  49  42\n",
    "2  20 -20   9  16 -17  -1  37  39  41  37\n",
    "3  27  44  -5   5   3 -12   0 -13  23  45\n",
    "4   8  27  -8  -3  48 -16  -5  40  16  10\n",
    "5  12  12  41 -12   3 -17  -3  27 -15  -1\n",
    "6  -9  -3  41 -13   1   0  28  33  -2  18\n",
    "7  18 -14  35   5   4  14   4  44  14  34\n",
    "8   1  24  26  28 -10  17 -14  14  38  17\n",
    "9  13  12   5   9 -16  -7  12 -18   1  24\n",
    "\n",
    "[[ 25.  17.  16.   6.  22.  44.  10.  47.]\n",
    " [  4.  29.  12.  41.  49.  42.  20.   9.]\n",
    " [ 16.  37.  39.  41.  37.  27.  44.   5.]\n",
    " [  3.  23.  45.   8.  27.  48.  40.  16.]\n",
    " [ 10.  12.  12.  41.   3.  27.  41.  28.]\n",
    " [ 33.  18.  18.  35.   5.   4.  14.   4.]\n",
    " [ 44.  14.  34.  24.  26.  28.  17.  14.]\n",
    " [ 38.  17.  13.  12.   5.   9.  12.  24.]]"
   ]
  }
 ],
 "metadata": {
  "language_info": {
   "name": "python"
  },
  "orig_nbformat": 4
 },
 "nbformat": 4,
 "nbformat_minor": 2
}
