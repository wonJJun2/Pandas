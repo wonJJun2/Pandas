{
 "cells": [
  {
   "cell_type": "code",
   "execution_count": null,
   "metadata": {},
   "outputs": [],
   "source": [
    "# Input\n",
    "ser = pd.Series(['how', 'to', 'kick', 'ass?'])\n",
    "\n",
    "# 1\n",
    "ser.map(lambda x: x.title())\n",
    "\n",
    "# 2\n",
    "ser.map(lambda x: x[0].upper() + x[1:])\n",
    "\n",
    "# 3\n",
    "pd.Series([i.title() for i in ser])\n",
    "\n",
    "# output\n",
    "0     How\n",
    "1      To\n",
    "2    Kick\n",
    "3    Ass?\n",
    "dtype: object"
   ]
  }
 ],
 "metadata": {
  "language_info": {
   "name": "python"
  },
  "orig_nbformat": 4
 },
 "nbformat": 4,
 "nbformat_minor": 2
}
