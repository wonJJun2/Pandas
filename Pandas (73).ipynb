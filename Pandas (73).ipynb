{
 "cells": [
  {
   "cell_type": "code",
   "execution_count": null,
   "metadata": {},
   "outputs": [],
   "source": [
    "# Input\n",
    "df = pd.DataFrame(np.random.randint(1, 100, 20).reshape(-1, 4), columns = list('abcd'))\n",
    "\n",
    "# Solution\n",
    "df['a_lag1'] = df['a'].shift(1)\n",
    "df['b_lead1'] = df['b'].shift(-1)\n",
    "print(df)\n",
    "\n",
    "# output\n",
    "    a   b   c   d  a_lag1  b_lead1\n",
    "0  29  90  43  24     NaN     36.0\n",
    "1  94  36  67  66    29.0     76.0\n",
    "2  81  76  44  49    94.0     97.0\n",
    "3  55  97  10  74    81.0     43.0\n",
    "4  32  43  62  62    55.0      NaN"
   ]
  }
 ],
 "metadata": {
  "language_info": {
   "name": "python"
  },
  "orig_nbformat": 4
 },
 "nbformat": 4,
 "nbformat_minor": 2
}
