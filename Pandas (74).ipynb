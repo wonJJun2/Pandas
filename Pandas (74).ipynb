{
 "cells": [
  {
   "cell_type": "code",
   "execution_count": null,
   "metadata": {},
   "outputs": [],
   "source": [
    "# Input\n",
    "df = pd.DataFrame(np.random.randint(1, 10, 20).reshape(-1, 4), columns = list('abcd'))\n",
    "\n",
    "# Solution\n",
    "pd.value_counts(df.values.ravel())\n",
    "\n",
    "# output\n",
    "5    4\n",
    "4    4\n",
    "9    3\n",
    "8    2\n",
    "7    2\n",
    "3    2\n",
    "6    1\n",
    "2    1\n",
    "1    1\n",
    "dtype: int64"
   ]
  }
 ],
 "metadata": {
  "language_info": {
   "name": "python"
  },
  "orig_nbformat": 4
 },
 "nbformat": 4,
 "nbformat_minor": 2
}
