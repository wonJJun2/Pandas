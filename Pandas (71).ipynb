{
 "cells": [
  {
   "cell_type": "code",
   "execution_count": null,
   "metadata": {},
   "outputs": [],
   "source": [
    "# Input\n",
    "df1 = pd.DataFrame({'fruit': ['apple', 'orange', 'banana'] * 3,\n",
    "                    'weight': ['high', 'medium', 'low'] * 3,\n",
    "                    'price': np.arange(9)})\n",
    "\n",
    "df2 = pd.DataFrame({'fruit': ['apple', 'orange', 'pine'] * 2,\n",
    "                    'weight': ['high', 'medium'] * 3,\n",
    "                    'price': np.arange(6)})\n",
    "\n",
    "\n",
    "# Solution\n",
    "print(df1[~df1.isin(df2).all(1)])\n",
    "\n",
    "# output\n",
    "    fruit  price  weight\n",
    "2  banana      2     low\n",
    "3   apple      3    high\n",
    "4  orange      4  medium\n",
    "5  banana      5     low\n",
    "6   apple      6    high\n",
    "7  orange      7  medium\n",
    "8  banana      8     low"
   ]
  }
 ],
 "metadata": {
  "language_info": {
   "name": "python"
  },
  "orig_nbformat": 4
 },
 "nbformat": 4,
 "nbformat_minor": 2
}
