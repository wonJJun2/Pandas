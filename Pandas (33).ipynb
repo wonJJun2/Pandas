{
 "cells": [
  {
   "cell_type": "code",
   "execution_count": null,
   "metadata": {},
   "outputs": [],
   "source": [
    "# 1: Use chunks and for-loop\n",
    "df = pd.read_csv('https://raw.githubusercontent.com/selva86/datasets/master/BostonHousing.csv', chunksize=50)\n",
    "df2 = pd.DataFrame()\n",
    "for chunk in df:\n",
    "    df2 = df2.append(chunk.iloc[0,:])\n",
    "\n",
    "\n",
    "# 2: Use chunks and list comprehension\n",
    "df = pd.read_csv('https://raw.githubusercontent.com/selva86/datasets/master/BostonHousing.csv', chunksize=50)\n",
    "df2 = pd.concat([chunk.iloc[0] for chunk in df], axis=1)\n",
    "df2 = df2.transpose()\n",
    "\n",
    "# 3: Use csv reader\n",
    "import csv          \n",
    "with open('BostonHousing.csv', 'r') as f:\n",
    "    reader = csv.reader(f)\n",
    "    out = []\n",
    "    for i, row in enumerate(reader):\n",
    "        if i%50 == 0:\n",
    "            out.append(row)\n",
    "\n",
    "df2 = pd.DataFrame(out[1:], columns=out[0])\n",
    "print(df2.head())\n",
    "\n",
    "# output\n",
    "                 crim    zn  indus chas                  nox     rm   age  \\\n",
    "0              0.21977   0.0   6.91    0  0.44799999999999995  5.602  62.0   \n",
    "1               0.0686   0.0   2.89    0                0.445  7.416  62.5   \n",
    "2   2.7339700000000002   0.0  19.58    0                0.871  5.597  94.9   \n",
    "3               0.0315  95.0   1.47    0  0.40299999999999997  6.975  15.3   \n",
    "4  0.19072999999999998  22.0   5.86    0                0.431  6.718  17.5   \n",
    "\n",
    "      dis rad  tax ptratio       b  lstat  medv  \n",
    "0  6.0877   3  233    17.9   396.9   16.2  19.4  \n",
    "1  3.4952   2  276    18.0   396.9   6.19  33.2  \n",
    "2  1.5257   5  403    14.7  351.85  21.45  15.4  \n",
    "3  7.6534   3  402    17.0   396.9   4.56  34.9  \n",
    "4  7.8265   7  330    19.1  393.74   6.56  26.2"
   ]
  }
 ],
 "metadata": {
  "language_info": {
   "name": "python"
  },
  "orig_nbformat": 4
 },
 "nbformat": 4,
 "nbformat_minor": 2
}
