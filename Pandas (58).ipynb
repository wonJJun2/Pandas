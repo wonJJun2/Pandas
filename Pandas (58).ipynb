{
 "cells": [
  {
   "cell_type": "code",
   "execution_count": null,
   "metadata": {},
   "outputs": [],
   "source": [
    "# Input\n",
    "df = pd.DataFrame(np.arange(25).reshape(5,-1), columns=list('abcde'))\n",
    "\n",
    "# Solution\n",
    "df_onehot = pd.concat([pd.get_dummies(df['a']), df[list('bcde')]], axis=1)\n",
    "print(df_onehot)\n",
    "\n",
    "# output\n",
    "    a   b   c   d   e\n",
    "0   0   1   2   3   4\n",
    "1   5   6   7   8   9\n",
    "2  10  11  12  13  14\n",
    "3  15  16  17  18  19\n",
    "4  20  21  22  23  24\n",
    "   0  5  10  15  20   b   c   d   e\n",
    "0  1  0   0   0   0   1   2   3   4\n",
    "1  0  1   0   0   0   6   7   8   9\n",
    "2  0  0   1   0   0  11  12  13  14\n",
    "3  0  0   0   1   0  16  17  18  19\n",
    "4  0  0   0   0   1  21  22  23  24"
   ]
  }
 ],
 "metadata": {
  "language_info": {
   "name": "python"
  },
  "orig_nbformat": 4
 },
 "nbformat": 4,
 "nbformat_minor": 2
}
