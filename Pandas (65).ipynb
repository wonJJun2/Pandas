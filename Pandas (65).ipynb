{
 "cells": [
  {
   "cell_type": "code",
   "execution_count": null,
   "metadata": {},
   "outputs": [],
   "source": [
    "# Input\n",
    "df = pd.DataFrame(np.random.randint(1,100, 80).reshape(8, -1))\n",
    "\n",
    "# Solution\n",
    "[df.iloc[i].corr(df.iloc[i+1]).round(2) for i in range(df.shape[0])[:-1]]\n",
    "\n",
    "# output\n",
    " 0   1   2   3   4   5   6   7   8   9\n",
    "0  93  49  26   2  96  56  11  73  90  65\n",
    "1  54  17  47  52  65   9  21  87  94   4\n",
    "2  51  11  44  77  37  57  17  25  95  26\n",
    "3  84   8  61  43  63  63  59  65  69  29\n",
    "4   8  27  53  95  10  35  16  61  39  83\n",
    "5  30  70  91  26  12  44  37  71  21  48\n",
    "6  66  44  47  44  29  99  86  78  31   1\n",
    "7  17  40  28  12  89  95  79  54  81  47\n",
    "\n",
    "[0.40999999999999998,\n",
    " 0.47999999999999998,\n",
    " 0.42999999999999999,\n",
    " -0.37,\n",
    " 0.23000000000000001,\n",
    " 0.14000000000000001,\n",
    " 0.22]"
   ]
  }
 ],
 "metadata": {
  "language_info": {
   "name": "python"
  },
  "orig_nbformat": 4
 },
 "nbformat": 4,
 "nbformat_minor": 2
}
