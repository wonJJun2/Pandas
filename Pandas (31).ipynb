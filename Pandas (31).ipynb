{
 "cells": [
  {
   "cell_type": "code",
   "execution_count": null,
   "metadata": {},
   "outputs": [],
   "source": [
    "# Input\n",
    "ser = pd.Series([1,10,3, np.nan], index=pd.to_datetime(['2000-01-01', '2000-01-03', '2000-01-06', '2000-01-08']))\n",
    "\n",
    "# 1\n",
    "ser.resample('D').ffill()  # fill with previous value\n",
    "\n",
    "# 2\n",
    "ser.resample('D').bfill()  # fill with next value\n",
    "ser.resample('D').bfill().ffill()  # fill next else prev value\n",
    "\n",
    "# output\n",
    "2000-01-01     1.0\n",
    "2000-01-02    10.0\n",
    "2000-01-03    10.0\n",
    "2000-01-04     3.0\n",
    "2000-01-05     3.0\n",
    "2000-01-06     3.0\n",
    "2000-01-07     3.0\n",
    "2000-01-08     3.0\n",
    "Freq: D, dtype: float64"
   ]
  }
 ],
 "metadata": {
  "language_info": {
   "name": "python"
  },
  "orig_nbformat": 4
 },
 "nbformat": 4,
 "nbformat_minor": 2
}
