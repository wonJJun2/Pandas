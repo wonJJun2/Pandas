{
 "cells": [
  {
   "cell_type": "code",
   "execution_count": null,
   "metadata": {},
   "outputs": [],
   "source": [
    "# Input\n",
    "df = pd.read_csv('https://raw.githubusercontent.com/selva86/datasets/master/Cars93_miss.csv')\n",
    "\n",
    "# Solution\n",
    "print(df.iloc[::20, :][['Manufacturer', 'Model', 'Type']])\n",
    "\n",
    "# output\n",
    "  Manufacturer    Model     Type\n",
    "0         Acura  Integra    Small\n",
    "20     Chrysler  LeBaron  Compact\n",
    "40        Honda  Prelude   Sporty\n",
    "60      Mercury   Cougar  Midsize\n",
    "80       Subaru   Loyale    Small"
   ]
  }
 ],
 "metadata": {
  "language_info": {
   "name": "python"
  },
  "orig_nbformat": 4
 },
 "nbformat": 4,
 "nbformat_minor": 2
}
