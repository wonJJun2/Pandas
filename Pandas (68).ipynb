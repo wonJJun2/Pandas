{
 "cells": [
  {
   "cell_type": "code",
   "execution_count": null,
   "metadata": {},
   "outputs": [],
   "source": [
    "# Input\n",
    "df = pd.DataFrame({'fruit': ['apple', 'banana', 'orange'] * 3,\n",
    "                   'taste': np.random.rand(9),\n",
    "                   'price': np.random.randint(0, 15, 9)})\n",
    "\n",
    "print(df)\n",
    "\n",
    "# Solution\n",
    "df_grpd = df['taste'].groupby(df.fruit)\n",
    "df_grpd.get_group('banana').sort_values().iloc[-2]\n",
    "\n",
    "# output\n",
    "    fruit  price     taste\n",
    "0   apple      7  0.190229\n",
    "1  banana      2  0.438063\n",
    "2  orange      1  0.860182\n",
    "3   apple      6  0.042149\n",
    "4  banana      2  0.896021\n",
    "5  orange      5  0.255107\n",
    "6   apple      6  0.874533\n",
    "7  banana      4  0.696274\n",
    "8  orange      9  0.140713\n",
    "\n",
    "0.69627423645996078"
   ]
  }
 ],
 "metadata": {
  "language_info": {
   "name": "python"
  },
  "orig_nbformat": 4
 },
 "nbformat": 4,
 "nbformat_minor": 2
}
