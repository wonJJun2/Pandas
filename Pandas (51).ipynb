{
 "cells": [
  {
   "cell_type": "code",
   "execution_count": null,
   "metadata": {},
   "outputs": [],
   "source": [
    "# Input\n",
    "df = pd.DataFrame(np.random.randint(1, 30, 30).reshape(10,-1), columns=list('abc'))\n",
    "\n",
    "# Solution\n",
    "n = 5\n",
    "df['a'].argsort()[::-1][n]\n",
    "\n",
    "# output\n",
    "    a   b   c\n",
    "0  27   7  25\n",
    "1   8   4  20\n",
    "2   1   7  17\n",
    "3  24   9  17\n",
    "4  21  15   9\n",
    "5  21  16  20\n",
    "6  19  27  25\n",
    "7  12   8  20\n",
    "8  11  16  28\n",
    "9  24  13   4\n",
    "\n",
    "4"
   ]
  }
 ],
 "metadata": {
  "language_info": {
   "name": "python"
  },
  "orig_nbformat": 4
 },
 "nbformat": 4,
 "nbformat_minor": 2
}
