{
 "cells": [
  {
   "cell_type": "code",
   "execution_count": null,
   "metadata": {},
   "outputs": [],
   "source": [
    "df = pd.read_csv('https://raw.githubusercontent.com/selva86/datasets/master/BostonHousing.csv', usecols=['crim', 'medv'])\n",
    "print(df.head())\n",
    "\n",
    "# output\n",
    "crim  medv\n",
    "0  0.00632  24.0\n",
    "1  0.02731  21.6\n",
    "2  0.02729  34.7\n",
    "3  0.03237  33.4\n",
    "4  0.06905  36.2"
   ]
  }
 ],
 "metadata": {
  "language_info": {
   "name": "python"
  },
  "orig_nbformat": 4
 },
 "nbformat": 4,
 "nbformat_minor": 2
}
