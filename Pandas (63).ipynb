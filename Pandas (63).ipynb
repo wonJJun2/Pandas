{
 "cells": [
  {
   "cell_type": "code",
   "execution_count": null,
   "metadata": {},
   "outputs": [],
   "source": [
    "# Input\n",
    "df = pd.DataFrame(np.random.randint(1,100, 80).reshape(8, -1))\n",
    "\n",
    "# Solution\n",
    "out = df.apply(lambda x: x.sort_values().unique()[-2], axis=1)\n",
    "df['penultimate'] = out\n",
    "print(df)\n",
    "\n",
    "# output\n",
    "    0   1   2   3   4   5   6   7   8   9  penultimate\n",
    "0  52  69  62   7  20  69  38  10  57  17           62\n",
    "1  52  94  49  63   1  90  14  76  20  84           90\n",
    "2  78  37  58   7  27  41  27  26  48  51           58\n",
    "3   6  39  99  36  62  90  47  25  60  84           90\n",
    "4  37  36  91  93  76  69  86  95  69   6           93\n",
    "5   5  54  73  61  22  29  99  27  46  24           73\n",
    "6  71  65  45   9  63  46   4  93  36  18           71\n",
    "7  85   7  76  46  65  97  64  52  28  80           85"
   ]
  }
 ],
 "metadata": {
  "language_info": {
   "name": "python"
  },
  "orig_nbformat": 4
 },
 "nbformat": 4,
 "nbformat_minor": 2
}
