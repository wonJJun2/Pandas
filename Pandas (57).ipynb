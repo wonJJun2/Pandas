{
 "cells": [
  {
   "cell_type": "code",
   "execution_count": null,
   "metadata": {},
   "outputs": [],
   "source": [
    "# Input\n",
    "df = pd.DataFrame(np.arange(25).reshape(5, -1))\n",
    "\n",
    "# 1\n",
    "df.iloc[::-1, :]\n",
    "\n",
    "# 2\n",
    "print(df.loc[df.index[::-1], :])\n",
    "\n",
    "# output\n",
    "    0   1   2   3   4\n",
    "4  20  21  22  23  24\n",
    "3  15  16  17  18  19\n",
    "2  10  11  12  13  14\n",
    "1   5   6   7   8   9\n",
    "0   0   1   2   3   4"
   ]
  }
 ],
 "metadata": {
  "language_info": {
   "name": "python"
  },
  "orig_nbformat": 4
 },
 "nbformat": 4,
 "nbformat_minor": 2
}
