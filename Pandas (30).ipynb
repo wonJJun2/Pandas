{
 "cells": [
  {
   "cell_type": "code",
   "execution_count": null,
   "metadata": {},
   "outputs": [],
   "source": [
    "# Solution\n",
    "ser = pd.Series(np.random.randint(1,10,10), pd.date_range('2000-01-01', periods=10, freq='W-SAT'))\n",
    "ser\n",
    "\n",
    "# output\n",
    "2000-01-01    6\n",
    "2000-01-08    7\n",
    "2000-01-15    4\n",
    "2000-01-22    6\n",
    "2000-01-29    8\n",
    "2000-02-05    6\n",
    "2000-02-12    5\n",
    "2000-02-19    8\n",
    "2000-02-26    1\n",
    "2000-03-04    7\n",
    "Freq: W-SAT, dtype: int64"
   ]
  }
 ],
 "metadata": {
  "language_info": {
   "name": "python"
  },
  "orig_nbformat": 4
 },
 "nbformat": 4,
 "nbformat_minor": 2
}
