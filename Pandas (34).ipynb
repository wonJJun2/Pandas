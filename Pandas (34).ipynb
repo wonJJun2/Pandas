{
 "cells": [
  {
   "cell_type": "code",
   "execution_count": null,
   "metadata": {},
   "outputs": [],
   "source": [
    "# 1: Using converter parameter\n",
    "df = pd.read_csv('https://raw.githubusercontent.com/selva86/datasets/master/BostonHousing.csv', \n",
    "                 converters={'medv': lambda x: 'High' if float(x) > 25 else 'Low'})\n",
    "\n",
    "\n",
    "# 2: Using csv reader\n",
    "import csv\n",
    "with open('BostonHousing.csv', 'r') as f:\n",
    "    reader = csv.reader(f)\n",
    "    out = []\n",
    "    for i, row in enumerate(reader):\n",
    "        if i > 0:\n",
    "            row[13] = 'High' if float(row[13]) > 25 else 'Low'\n",
    "        out.append(row)\n",
    "\n",
    "df = pd.DataFrame(out[1:], columns=out[0])\n",
    "print(df.head())\n",
    "\n",
    "# output\n",
    "                   crim    zn indus chas                  nox  \\\n",
    "0               0.00632  18.0  2.31    0   0.5379999999999999   \n",
    "1               0.02731   0.0  7.07    0                0.469   \n",
    "2               0.02729   0.0  7.07    0                0.469   \n",
    "3  0.032369999999999996   0.0  2.18    0  0.45799999999999996   \n",
    "4               0.06905   0.0  2.18    0  0.45799999999999996   \n",
    "\n",
    "                  rm   age     dis rad  tax ptratio       b lstat  medv  \n",
    "0              6.575  65.2    4.09   1  296    15.3   396.9  4.98   Low  \n",
    "1              6.421  78.9  4.9671   2  242    17.8   396.9  9.14   Low  \n",
    "2              7.185  61.1  4.9671   2  242    17.8  392.83  4.03  High  \n",
    "3  6.997999999999999  45.8  6.0622   3  222    18.7  394.63  2.94  High  \n",
    "4              7.147  54.2  6.0622   3  222    18.7   396.9  5.33  High"
   ]
  }
 ],
 "metadata": {
  "kernelspec": {
   "display_name": "Python 3.9.1 64-bit",
   "language": "python",
   "name": "python3"
  },
  "language_info": {
   "name": "python",
   "version": "3.9.1"
  },
  "orig_nbformat": 4,
  "vscode": {
   "interpreter": {
    "hash": "cf92aa13fedf815d5c8dd192b8d835913fde3e8bc926b2a0ad6cc74ef2ba3ca2"
   }
  }
 },
 "nbformat": 4,
 "nbformat_minor": 2
}
