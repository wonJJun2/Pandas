{
 "cells": [
  {
   "cell_type": "code",
   "execution_count": null,
   "metadata": {},
   "outputs": [],
   "source": [
    "# Input\n",
    "df1 = pd.DataFrame({'fruit': ['apple', 'banana', 'orange'] * 3,\n",
    "                    'weight': ['high', 'medium', 'low'] * 3,\n",
    "                    'price': np.random.randint(0, 15, 9)})\n",
    "\n",
    "df2 = pd.DataFrame({'pazham': ['apple', 'orange', 'pine'] * 2,\n",
    "                    'kilo': ['high', 'low'] * 3,\n",
    "                    'price': np.random.randint(0, 15, 6)})\n",
    "\n",
    "# Solution\n",
    "pd.merge(df1, df2, how='inner', left_on=['fruit', 'weight'], right_on=['pazham', 'pounds'], suffixes=['_left', '_right'])\n",
    "\n",
    "# output\n",
    "\tfruit\tprice_left\tweight\tpazham\tpounds\tprice_right\n",
    "0\tapple\t5\thigh\tapple\thigh\t11\n",
    "1\tapple\t10\thigh\tapple\thigh\t11\n",
    "2\tapple\t8\thigh\tapple\thigh\t11\n",
    "3\torange\t6\tlow\torange\tlow\t6\n",
    "4\torange\t7\tlow\torange\tlow\t6\n",
    "5\torange\t0\tlow\torange\tlow\t6"
   ]
  }
 ],
 "metadata": {
  "language_info": {
   "name": "python"
  },
  "orig_nbformat": 4
 },
 "nbformat": 4,
 "nbformat_minor": 2
}
